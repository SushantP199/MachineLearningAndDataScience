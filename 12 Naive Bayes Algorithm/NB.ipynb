{
 "cells": [
  {
   "cell_type": "markdown",
   "metadata": {},
   "source": [
    "## Check for Files"
   ]
  },
  {
   "cell_type": "code",
   "execution_count": 1,
   "metadata": {},
   "outputs": [],
   "source": [
    "import os"
   ]
  },
  {
   "cell_type": "code",
   "execution_count": 2,
   "metadata": {},
   "outputs": [
    {
     "data": {
      "text/plain": [
       "['.ipynb_checkpoints',\n",
       " 'meshgrid-contour.py',\n",
       " 'NB.ipynb',\n",
       " 'Social_Network_Ads.csv']"
      ]
     },
     "execution_count": 2,
     "metadata": {},
     "output_type": "execute_result"
    }
   ],
   "source": [
    "os.listdir()"
   ]
  },
  {
   "cell_type": "markdown",
   "metadata": {},
   "source": [
    "## Import Libraries"
   ]
  },
  {
   "cell_type": "code",
   "execution_count": 3,
   "metadata": {},
   "outputs": [],
   "source": [
    "import numpy as np\n",
    "import pandas as pd\n",
    "import matplotlib.pyplot as plt"
   ]
  },
  {
   "cell_type": "code",
   "execution_count": 4,
   "metadata": {},
   "outputs": [],
   "source": [
    "# To plot graphs inline\n",
    "%matplotlib inline"
   ]
  },
  {
   "cell_type": "markdown",
   "metadata": {},
   "source": [
    "## Load the Dataset"
   ]
  },
  {
   "cell_type": "code",
   "execution_count": 5,
   "metadata": {},
   "outputs": [],
   "source": [
    "dataFrame = pd.read_csv('Social_Network_Ads.csv')"
   ]
  },
  {
   "cell_type": "code",
   "execution_count": 6,
   "metadata": {},
   "outputs": [
    {
     "data": {
      "text/html": [
       "<div>\n",
       "<style scoped>\n",
       "    .dataframe tbody tr th:only-of-type {\n",
       "        vertical-align: middle;\n",
       "    }\n",
       "\n",
       "    .dataframe tbody tr th {\n",
       "        vertical-align: top;\n",
       "    }\n",
       "\n",
       "    .dataframe thead th {\n",
       "        text-align: right;\n",
       "    }\n",
       "</style>\n",
       "<table border=\"1\" class=\"dataframe\">\n",
       "  <thead>\n",
       "    <tr style=\"text-align: right;\">\n",
       "      <th></th>\n",
       "      <th>User ID</th>\n",
       "      <th>Gender</th>\n",
       "      <th>Age</th>\n",
       "      <th>EstimatedSalary</th>\n",
       "      <th>Purchased</th>\n",
       "    </tr>\n",
       "  </thead>\n",
       "  <tbody>\n",
       "    <tr>\n",
       "      <th>0</th>\n",
       "      <td>15624510</td>\n",
       "      <td>Male</td>\n",
       "      <td>19</td>\n",
       "      <td>19000</td>\n",
       "      <td>0</td>\n",
       "    </tr>\n",
       "    <tr>\n",
       "      <th>1</th>\n",
       "      <td>15810944</td>\n",
       "      <td>Male</td>\n",
       "      <td>35</td>\n",
       "      <td>20000</td>\n",
       "      <td>0</td>\n",
       "    </tr>\n",
       "    <tr>\n",
       "      <th>2</th>\n",
       "      <td>15668575</td>\n",
       "      <td>Female</td>\n",
       "      <td>26</td>\n",
       "      <td>43000</td>\n",
       "      <td>0</td>\n",
       "    </tr>\n",
       "    <tr>\n",
       "      <th>3</th>\n",
       "      <td>15603246</td>\n",
       "      <td>Female</td>\n",
       "      <td>27</td>\n",
       "      <td>57000</td>\n",
       "      <td>0</td>\n",
       "    </tr>\n",
       "    <tr>\n",
       "      <th>4</th>\n",
       "      <td>15804002</td>\n",
       "      <td>Male</td>\n",
       "      <td>19</td>\n",
       "      <td>76000</td>\n",
       "      <td>0</td>\n",
       "    </tr>\n",
       "  </tbody>\n",
       "</table>\n",
       "</div>"
      ],
      "text/plain": [
       "    User ID  Gender  Age  EstimatedSalary  Purchased\n",
       "0  15624510    Male   19            19000          0\n",
       "1  15810944    Male   35            20000          0\n",
       "2  15668575  Female   26            43000          0\n",
       "3  15603246  Female   27            57000          0\n",
       "4  15804002    Male   19            76000          0"
      ]
     },
     "execution_count": 6,
     "metadata": {},
     "output_type": "execute_result"
    }
   ],
   "source": [
    "dataFrame.head()"
   ]
  },
  {
   "cell_type": "code",
   "execution_count": 7,
   "metadata": {},
   "outputs": [
    {
     "name": "stdout",
     "output_type": "stream",
     "text": [
      "<class 'pandas.core.frame.DataFrame'>\n",
      "RangeIndex: 400 entries, 0 to 399\n",
      "Data columns (total 5 columns):\n",
      " #   Column           Non-Null Count  Dtype \n",
      "---  ------           --------------  ----- \n",
      " 0   User ID          400 non-null    int64 \n",
      " 1   Gender           400 non-null    object\n",
      " 2   Age              400 non-null    int64 \n",
      " 3   EstimatedSalary  400 non-null    int64 \n",
      " 4   Purchased        400 non-null    int64 \n",
      "dtypes: int64(4), object(1)\n",
      "memory usage: 15.8+ KB\n"
     ]
    }
   ],
   "source": [
    "dataFrame.info()"
   ]
  },
  {
   "cell_type": "markdown",
   "metadata": {},
   "source": [
    "## Split the dataFrame into Independent X and Dependent y Matrices"
   ]
  },
  {
   "cell_type": "code",
   "execution_count": 8,
   "metadata": {},
   "outputs": [],
   "source": [
    "X = dataFrame.iloc[ : , [2, 3]].values"
   ]
  },
  {
   "cell_type": "code",
   "execution_count": 9,
   "metadata": {},
   "outputs": [],
   "source": [
    "y = dataFrame.iloc[ : , 4].values"
   ]
  },
  {
   "cell_type": "markdown",
   "metadata": {},
   "source": [
    "## Splitting of Data into Train and Test Dataset"
   ]
  },
  {
   "cell_type": "code",
   "execution_count": 10,
   "metadata": {},
   "outputs": [],
   "source": [
    "from sklearn.model_selection import train_test_split"
   ]
  },
  {
   "cell_type": "code",
   "execution_count": 11,
   "metadata": {},
   "outputs": [],
   "source": [
    "X_train, X_test, y_train, y_test = train_test_split(X, y, test_size=0.25)"
   ]
  },
  {
   "cell_type": "code",
   "execution_count": 12,
   "metadata": {},
   "outputs": [
    {
     "data": {
      "text/plain": [
       "array([[    48,  29000],\n",
       "       [    30,  87000],\n",
       "       [    36,  52000],\n",
       "       [    48,  90000],\n",
       "       [    60,  42000],\n",
       "       [    27, 137000],\n",
       "       [    35,  59000],\n",
       "       [    35,  25000],\n",
       "       [    32, 117000],\n",
       "       [    23,  28000],\n",
       "       [    38, 112000],\n",
       "       [    21,  16000],\n",
       "       [    31,  89000],\n",
       "       [    47,  49000],\n",
       "       [    34,  25000],\n",
       "       [    29,  43000],\n",
       "       [    35,  72000],\n",
       "       [    47, 107000],\n",
       "       [    20,  82000],\n",
       "       [    53,  34000],\n",
       "       [    39,  71000],\n",
       "       [    48,  33000],\n",
       "       [    45,  79000],\n",
       "       [    56, 133000],\n",
       "       [    51, 146000],\n",
       "       [    29,  28000],\n",
       "       [    48, 141000],\n",
       "       [    32, 120000],\n",
       "       [    46,  41000],\n",
       "       [    38,  71000],\n",
       "       [    40,  57000],\n",
       "       [    24,  32000],\n",
       "       [    34, 115000],\n",
       "       [    43, 133000],\n",
       "       [    20,  49000],\n",
       "       [    19,  85000],\n",
       "       [    23,  82000],\n",
       "       [    19,  25000],\n",
       "       [    37,  93000],\n",
       "       [    26,  35000],\n",
       "       [    35,  75000],\n",
       "       [    33,  60000],\n",
       "       [    24,  89000],\n",
       "       [    58,  95000],\n",
       "       [    52, 138000],\n",
       "       [    49,  65000],\n",
       "       [    39, 122000],\n",
       "       [    27,  84000],\n",
       "       [    34,  43000],\n",
       "       [    22,  55000],\n",
       "       [    47, 144000],\n",
       "       [    29,  83000],\n",
       "       [    35,  79000],\n",
       "       [    38,  61000],\n",
       "       [    33,  43000],\n",
       "       [    46,  59000],\n",
       "       [    50,  20000],\n",
       "       [    39,  59000],\n",
       "       [    47,  23000],\n",
       "       [    41,  59000],\n",
       "       [    35, 147000],\n",
       "       [    48,  74000],\n",
       "       [    35,  97000],\n",
       "       [    25,  90000],\n",
       "       [    26,  17000],\n",
       "       [    28,  32000],\n",
       "       [    52,  90000],\n",
       "       [    26,  30000],\n",
       "       [    33,  31000],\n",
       "       [    42,  70000],\n",
       "       [    35,  38000],\n",
       "       [    18,  82000],\n",
       "       [    35,  55000],\n",
       "       [    20,  23000],\n",
       "       [    41,  80000],\n",
       "       [    30, 135000],\n",
       "       [    37,  75000],\n",
       "       [    25,  33000],\n",
       "       [    40,  78000],\n",
       "       [    19,  26000],\n",
       "       [    47,  30000],\n",
       "       [    38,  50000],\n",
       "       [    43, 112000],\n",
       "       [    20,  74000],\n",
       "       [    40,  75000],\n",
       "       [    37, 137000],\n",
       "       [    59,  76000],\n",
       "       [    22,  63000],\n",
       "       [    53, 143000],\n",
       "       [    37, 146000],\n",
       "       [    35,  88000],\n",
       "       [    38,  55000],\n",
       "       [    60, 102000],\n",
       "       [    42, 104000],\n",
       "       [    35,  60000],\n",
       "       [    41,  63000],\n",
       "       [    42, 149000],\n",
       "       [    42,  53000],\n",
       "       [    54,  26000],\n",
       "       [    23,  63000],\n",
       "       [    37,  55000],\n",
       "       [    49,  28000],\n",
       "       [    36,  60000],\n",
       "       [    52,  21000],\n",
       "       [    19,  76000],\n",
       "       [    32, 135000],\n",
       "       [    53, 104000],\n",
       "       [    36, 144000],\n",
       "       [    41,  79000],\n",
       "       [    58, 101000],\n",
       "       [    58,  38000],\n",
       "       [    25,  22000],\n",
       "       [    60,  34000],\n",
       "       [    42,  79000],\n",
       "       [    26,  81000],\n",
       "       [    27,  20000],\n",
       "       [    59, 143000],\n",
       "       [    29,  83000],\n",
       "       [    57,  33000],\n",
       "       [    28, 123000],\n",
       "       [    35,  91000],\n",
       "       [    23,  20000],\n",
       "       [    37,  62000],\n",
       "       [    52, 114000],\n",
       "       [    40, 142000],\n",
       "       [    26,  52000],\n",
       "       [    35,  58000],\n",
       "       [    54, 108000],\n",
       "       [    55, 130000],\n",
       "       [    42,  80000],\n",
       "       [    31,  15000],\n",
       "       [    44,  39000],\n",
       "       [    28,  85000],\n",
       "       [    24,  58000],\n",
       "       [    46,  82000],\n",
       "       [    41,  71000],\n",
       "       [    40,  72000],\n",
       "       [    29,  61000],\n",
       "       [    60,  83000],\n",
       "       [    28,  84000],\n",
       "       [    21,  68000],\n",
       "       [    60,  46000],\n",
       "       [    45,  32000],\n",
       "       [    48, 138000],\n",
       "       [    58, 144000],\n",
       "       [    41,  45000],\n",
       "       [    40, 107000],\n",
       "       [    51, 134000],\n",
       "       [    27,  88000],\n",
       "       [    28,  37000],\n",
       "       [    37, 144000],\n",
       "       [    54, 104000],\n",
       "       [    45, 131000],\n",
       "       [    40,  47000],\n",
       "       [    30,  79000],\n",
       "       [    36,  75000],\n",
       "       [    48,  33000],\n",
       "       [    33,  28000],\n",
       "       [    38,  59000],\n",
       "       [    39,  79000],\n",
       "       [    24,  55000],\n",
       "       [    26,  32000],\n",
       "       [    47,  50000],\n",
       "       [    32,  86000],\n",
       "       [    26,  84000],\n",
       "       [    49,  39000],\n",
       "       [    39,  96000],\n",
       "       [    57,  60000],\n",
       "       [    27,  58000],\n",
       "       [    37,  77000],\n",
       "       [    45,  26000],\n",
       "       [    58,  23000],\n",
       "       [    36,  63000],\n",
       "       [    34,  43000],\n",
       "       [    37,  80000],\n",
       "       [    30,  17000],\n",
       "       [    32, 117000],\n",
       "       [    22,  18000],\n",
       "       [    24,  27000],\n",
       "       [    35,  61000],\n",
       "       [    50,  44000],\n",
       "       [    36, 118000],\n",
       "       [    33,  51000],\n",
       "       [    59,  42000],\n",
       "       [    21,  88000],\n",
       "       [    35,  27000],\n",
       "       [    27,  96000],\n",
       "       [    27,  58000],\n",
       "       [    56, 104000],\n",
       "       [    29,  47000],\n",
       "       [    47,  20000],\n",
       "       [    30,  15000],\n",
       "       [    41,  60000],\n",
       "       [    55,  39000],\n",
       "       [    38,  50000],\n",
       "       [    31,  66000],\n",
       "       [    24,  19000],\n",
       "       [    57,  74000],\n",
       "       [    37,  72000],\n",
       "       [    42,  75000],\n",
       "       [    38,  61000],\n",
       "       [    46,  22000],\n",
       "       [    40,  57000],\n",
       "       [    41,  72000],\n",
       "       [    47,  25000],\n",
       "       [    39,  42000],\n",
       "       [    57,  26000],\n",
       "       [    38,  71000],\n",
       "       [    42,  65000],\n",
       "       [    35,  47000],\n",
       "       [    38, 113000],\n",
       "       [    40,  61000],\n",
       "       [    25,  79000],\n",
       "       [    47,  34000],\n",
       "       [    33,  69000],\n",
       "       [    29,  43000],\n",
       "       [    35,  23000],\n",
       "       [    35,  72000],\n",
       "       [    42,  64000],\n",
       "       [    38,  51000],\n",
       "       [    42,  90000],\n",
       "       [    31,  76000],\n",
       "       [    47,  47000],\n",
       "       [    48,  35000],\n",
       "       [    60, 108000],\n",
       "       [    30,  62000],\n",
       "       [    20,  86000],\n",
       "       [    35,  71000],\n",
       "       [    56,  60000],\n",
       "       [    25,  87000],\n",
       "       [    47, 105000],\n",
       "       [    28,  89000],\n",
       "       [    40,  75000],\n",
       "       [    47,  51000],\n",
       "       [    29,  80000],\n",
       "       [    24,  23000],\n",
       "       [    48, 131000],\n",
       "       [    49,  74000],\n",
       "       [    27,  54000],\n",
       "       [    35,  20000],\n",
       "       [    51,  23000],\n",
       "       [    35, 108000],\n",
       "       [    18,  52000],\n",
       "       [    27,  31000],\n",
       "       [    37,  57000],\n",
       "       [    37,  70000],\n",
       "       [    27,  90000],\n",
       "       [    36,  50000],\n",
       "       [    41,  52000],\n",
       "       [    22,  27000],\n",
       "       [    45,  45000],\n",
       "       [    38,  65000],\n",
       "       [    42,  73000],\n",
       "       [    20,  36000],\n",
       "       [    35,  50000],\n",
       "       [    48,  96000],\n",
       "       [    24,  84000],\n",
       "       [    35,  75000],\n",
       "       [    26,  15000],\n",
       "       [    40,  65000],\n",
       "       [    41,  51000],\n",
       "       [    28,  44000],\n",
       "       [    32, 100000],\n",
       "       [    49,  36000],\n",
       "       [    39,  73000],\n",
       "       [    26, 118000],\n",
       "       [    28,  79000],\n",
       "       [    30, 116000],\n",
       "       [    47,  43000],\n",
       "       [    26,  72000],\n",
       "       [    31,  18000],\n",
       "       [    59, 130000],\n",
       "       [    59,  29000],\n",
       "       [    37,  78000],\n",
       "       [    48,  30000],\n",
       "       [    32,  18000],\n",
       "       [    35,  65000],\n",
       "       [    37,  53000],\n",
       "       [    22,  81000],\n",
       "       [    39, 106000],\n",
       "       [    29,  75000],\n",
       "       [    49,  86000],\n",
       "       [    40,  57000],\n",
       "       [    35,  77000],\n",
       "       [    39,  61000],\n",
       "       [    39,  75000],\n",
       "       [    46,  96000],\n",
       "       [    31,  68000],\n",
       "       [    35,  57000],\n",
       "       [    42,  80000],\n",
       "       [    59,  83000],\n",
       "       [    31,  34000],\n",
       "       [    35,  39000],\n",
       "       [    31,  58000],\n",
       "       [    39,  42000],\n",
       "       [    53,  82000],\n",
       "       [    41,  72000],\n",
       "       [    48, 134000],\n",
       "       [    41,  87000],\n",
       "       [    44, 139000]], dtype=int64)"
      ]
     },
     "execution_count": 12,
     "metadata": {},
     "output_type": "execute_result"
    }
   ],
   "source": [
    "X_train"
   ]
  },
  {
   "cell_type": "code",
   "execution_count": 13,
   "metadata": {},
   "outputs": [
    {
     "data": {
      "text/plain": [
       "array([0, 0, 1, 0, 1, 0, 1, 0, 0, 1, 0, 1, 0, 1, 0, 1, 1, 1, 0, 0, 0, 0,\n",
       "       0, 0, 1, 1, 0, 1, 1, 0, 0, 0, 1, 1, 0, 0, 0, 1, 0, 1, 0, 1, 1, 0,\n",
       "       1, 1, 0, 0, 1, 0, 0, 0, 0, 1, 0, 1, 1, 0, 0, 0, 0, 1, 0, 0, 1, 0,\n",
       "       0, 0, 0, 0, 1, 0, 0, 0, 1, 0, 1, 0, 0, 1, 0, 0, 1, 1, 0, 1, 1, 1,\n",
       "       0, 1, 1, 0, 1, 0, 0, 0, 0, 1, 0, 1], dtype=int64)"
      ]
     },
     "execution_count": 13,
     "metadata": {},
     "output_type": "execute_result"
    }
   ],
   "source": [
    "y_test"
   ]
  },
  {
   "cell_type": "markdown",
   "metadata": {},
   "source": [
    "## Feature Scaling"
   ]
  },
  {
   "cell_type": "code",
   "execution_count": 14,
   "metadata": {},
   "outputs": [],
   "source": [
    "from sklearn.preprocessing import StandardScaler"
   ]
  },
  {
   "cell_type": "code",
   "execution_count": 15,
   "metadata": {},
   "outputs": [],
   "source": [
    "scale_X = StandardScaler()"
   ]
  },
  {
   "cell_type": "code",
   "execution_count": 16,
   "metadata": {},
   "outputs": [],
   "source": [
    "X_train = scale_X.fit_transform(X_train)"
   ]
  },
  {
   "cell_type": "code",
   "execution_count": 17,
   "metadata": {},
   "outputs": [],
   "source": [
    "X_test = scale_X.transform(X_test)"
   ]
  },
  {
   "cell_type": "markdown",
   "metadata": {},
   "source": [
    "## Pass the Data to Naive Bayes Algorithm"
   ]
  },
  {
   "cell_type": "code",
   "execution_count": 18,
   "metadata": {},
   "outputs": [],
   "source": [
    "from sklearn.naive_bayes import GaussianNB"
   ]
  },
  {
   "cell_type": "code",
   "execution_count": 19,
   "metadata": {},
   "outputs": [],
   "source": [
    "classifier = GaussianNB()"
   ]
  },
  {
   "cell_type": "code",
   "execution_count": 20,
   "metadata": {},
   "outputs": [
    {
     "data": {
      "text/plain": [
       "GaussianNB(priors=None, var_smoothing=1e-09)"
      ]
     },
     "execution_count": 20,
     "metadata": {},
     "output_type": "execute_result"
    }
   ],
   "source": [
    "classifier.fit(X_train, y_train)"
   ]
  },
  {
   "cell_type": "code",
   "execution_count": 21,
   "metadata": {},
   "outputs": [],
   "source": [
    "y_predict = classifier.predict(X_test)"
   ]
  },
  {
   "cell_type": "code",
   "execution_count": 22,
   "metadata": {},
   "outputs": [
    {
     "data": {
      "text/plain": [
       "array([0, 0, 0, 0, 1, 0, 1, 0, 0, 1, 0, 1, 0, 1, 0, 1, 1, 1, 0, 0, 0, 0,\n",
       "       0, 0, 1, 0, 0, 0, 1, 0, 1, 0, 1, 1, 0, 0, 0, 1, 0, 0, 0, 0, 1, 0,\n",
       "       1, 1, 0, 0, 1, 0, 0, 0, 0, 0, 0, 1, 1, 0, 0, 0, 0, 0, 0, 0, 1, 0,\n",
       "       0, 0, 0, 0, 1, 0, 0, 0, 1, 0, 0, 0, 0, 0, 0, 0, 1, 1, 0, 1, 1, 1,\n",
       "       0, 1, 1, 0, 1, 0, 0, 0, 0, 0, 0, 1], dtype=int64)"
      ]
     },
     "execution_count": 22,
     "metadata": {},
     "output_type": "execute_result"
    }
   ],
   "source": [
    "y_predict"
   ]
  },
  {
   "cell_type": "code",
   "execution_count": 23,
   "metadata": {},
   "outputs": [
    {
     "data": {
      "text/plain": [
       "array([0, 0, 1, 0, 1, 0, 1, 0, 0, 1, 0, 1, 0, 1, 0, 1, 1, 1, 0, 0, 0, 0,\n",
       "       0, 0, 1, 1, 0, 1, 1, 0, 0, 0, 1, 1, 0, 0, 0, 1, 0, 1, 0, 1, 1, 0,\n",
       "       1, 1, 0, 0, 1, 0, 0, 0, 0, 1, 0, 1, 1, 0, 0, 0, 0, 1, 0, 0, 1, 0,\n",
       "       0, 0, 0, 0, 1, 0, 0, 0, 1, 0, 1, 0, 0, 1, 0, 0, 1, 1, 0, 1, 1, 1,\n",
       "       0, 1, 1, 0, 1, 0, 0, 0, 0, 1, 0, 1], dtype=int64)"
      ]
     },
     "execution_count": 23,
     "metadata": {},
     "output_type": "execute_result"
    }
   ],
   "source": [
    "y_test"
   ]
  },
  {
   "cell_type": "markdown",
   "metadata": {},
   "source": [
    "## Detect the wrong prediction using Confusion Matrix"
   ]
  },
  {
   "cell_type": "code",
   "execution_count": 24,
   "metadata": {},
   "outputs": [],
   "source": [
    "from sklearn.metrics import confusion_matrix"
   ]
  },
  {
   "cell_type": "code",
   "execution_count": 25,
   "metadata": {},
   "outputs": [],
   "source": [
    "cm = confusion_matrix(y_test, y_predict)"
   ]
  },
  {
   "cell_type": "code",
   "execution_count": 26,
   "metadata": {},
   "outputs": [
    {
     "data": {
      "text/plain": [
       "array([[58,  1],\n",
       "       [10, 31]], dtype=int64)"
      ]
     },
     "execution_count": 26,
     "metadata": {},
     "output_type": "execute_result"
    }
   ],
   "source": [
    "cm"
   ]
  },
  {
   "cell_type": "markdown",
   "metadata": {},
   "source": [
    "## Plot the Results"
   ]
  },
  {
   "cell_type": "code",
   "execution_count": 27,
   "metadata": {},
   "outputs": [
    {
     "name": "stderr",
     "output_type": "stream",
     "text": [
      "'c' argument looks like a single numeric RGB or RGBA sequence, which should be avoided as value-mapping will have precedence in case its length matches with 'x' & 'y'.  Please use a 2-D array with a single row if you really want to specify the same RGB or RGBA value for all points.\n",
      "'c' argument looks like a single numeric RGB or RGBA sequence, which should be avoided as value-mapping will have precedence in case its length matches with 'x' & 'y'.  Please use a 2-D array with a single row if you really want to specify the same RGB or RGBA value for all points.\n"
     ]
    },
    {
     "data": {
      "text/plain": [
       "<matplotlib.legend.Legend at 0x244755c9b88>"
      ]
     },
     "execution_count": 27,
     "metadata": {},
     "output_type": "execute_result"
    },
    {
     "data": {
      "image/png": "[encoded data removed]",
      "text/plain": [
       "<Figure size 432x288 with 1 Axes>"
      ]
     },
     "metadata": {
      "needs_background": "light"
     },
     "output_type": "display_data"
    }
   ],
   "source": [
    "# Visualising the Training set results\n",
    "from matplotlib.colors import ListedColormap\n",
    "X_point, y_point = X_train, y_train\n",
    "X1, X2 = np.meshgrid(np.arange(start = X_point[:, 0].min() - 1, stop = X_point[:, 0].max() + 1, step = 0.01),\n",
    "                     np.arange(start = X_point[:, 1].min() - 1, stop = X_point[:, 1].max() + 1, step = 0.01))\n",
    "plt.contourf(X1, X2, classifier.predict(np.array([X1.ravel(), X2.ravel()]).T).reshape(X1.shape),\n",
    "             alpha = 0.75, cmap = ListedColormap(('black', 'green')))\n",
    "plt.xlim(X1.min(), X1.max())\n",
    "plt.ylim(X2.min(), X2.max())\n",
    "for i, j in enumerate(np.unique(y_point)):\n",
    "    plt.scatter(X_point[y_point == j, 0], X_point[y_point == j, 1],\n",
    "                c = ListedColormap(('black', 'green'))(i), label = j)\n",
    "plt.title('NB Training set')\n",
    "plt.xlabel('Age')\n",
    "plt.ylabel('Salary')\n",
    "plt.legend()\n"
   ]
  },
  {
   "cell_type": "code",
   "execution_count": 28,
   "metadata": {},
   "outputs": [
    {
     "name": "stderr",
     "output_type": "stream",
     "text": [
      "'c' argument looks like a single numeric RGB or RGBA sequence, which should be avoided as value-mapping will have precedence in case its length matches with 'x' & 'y'.  Please use a 2-D array with a single row if you really want to specify the same RGB or RGBA value for all points.\n",
      "'c' argument looks like a single numeric RGB or RGBA sequence, which should be avoided as value-mapping will have precedence in case its length matches with 'x' & 'y'.  Please use a 2-D array with a single row if you really want to specify the same RGB or RGBA value for all points.\n"
     ]
    },
    {
     "data": {
      "text/plain": [
       "<matplotlib.legend.Legend at 0x24475036c08>"
      ]
     },
     "execution_count": 28,
     "metadata": {},
     "output_type": "execute_result"
    },
    {
     "data": {
      "image/png": "[encoded data removed]",
      "text/plain": [
       "<Figure size 432x288 with 1 Axes>"
      ]
     },
     "metadata": {
      "needs_background": "light"
     },
     "output_type": "display_data"
    }
   ],
   "source": [
    "# Visualising the Testing set results\n",
    "from matplotlib.colors import ListedColormap\n",
    "X_point, y_point = X_test, y_test\n",
    "X1, X2 = np.meshgrid(np.arange(start = X_point[:, 0].min() - 1, stop = X_point[:, 0].max() + 1, step = 0.01),\n",
    "                     np.arange(start = X_point[:, 1].min() - 1, stop = X_point[:, 1].max() + 1, step = 0.01))\n",
    "plt.contourf(X1, X2, classifier.predict(np.array([X1.ravel(), X2.ravel()]).T).reshape(X1.shape),\n",
    "             alpha = 0.75, cmap = ListedColormap(('black', 'green')))\n",
    "plt.xlim(X1.min(), X1.max())\n",
    "plt.ylim(X2.min(), X2.max())\n",
    "for i, j in enumerate(np.unique(y_point)):\n",
    "    plt.scatter(X_point[y_point == j, 0], X_point[y_point == j, 1],\n",
    "                c = ListedColormap(('black', 'green'))(i), label = j)\n",
    "plt.title('NB Testing set')\n",
    "plt.xlabel('Age')\n",
    "plt.ylabel('Salary')\n",
    "plt.legend()\n"
   ]
  },
  {
   "cell_type": "code",
   "execution_count": null,
   "metadata": {},
   "outputs": [],
   "source": []
  }
 ],
 "metadata": {
  "kernelspec": {
   "display_name": "Python 3",
   "language": "python",
   "name": "python3"
  },
  "language_info": {
   "codemirror_mode": {
    "name": "ipython",
    "version": 3
   },
   "file_extension": ".py",
   "mimetype": "text/x-python",
   "name": "python",
   "nbconvert_exporter": "python",
   "pygments_lexer": "ipython3",
   "version": "3.7.6"
  }
 },
 "nbformat": 4,
 "nbformat_minor": 2
}
